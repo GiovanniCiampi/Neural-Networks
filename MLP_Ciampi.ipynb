{
 "cells": [
  {
   "cell_type": "code",
   "execution_count": 517,
   "metadata": {},
   "outputs": [],
   "source": [
    "import math\n",
    "import numpy as np\n",
    "import matplotlib.pyplot as plt\n",
    "import pandas as pd\n",
    "from sklearn.preprocessing import OneHotEncoder\n",
    "from sklearn.preprocessing import StandardScaler"
   ]
  },
  {
   "cell_type": "code",
   "execution_count": 306,
   "metadata": {},
   "outputs": [
    {
     "data": {
      "text/html": [
       "<style>.container { width:95% !important; }</style>"
      ],
      "text/plain": [
       "<IPython.core.display.HTML object>"
      ]
     },
     "metadata": {},
     "output_type": "display_data"
    }
   ],
   "source": [
    "# In order to have a wider notebook\n",
    "from IPython.core.display import display, HTML\n",
    "display(HTML(\"<style>.container { width:95% !important; }</style>\"))"
   ]
  },
  {
   "cell_type": "markdown",
   "metadata": {},
   "source": [
    "# Class MLP\n",
    "This class lets you build a simple Multi-Layer perceptron (MLP) with just one hidden layer.\n",
    "\n",
    "The class should be used in the following way:  \n",
    "first, create an instance\n",
    "```python\n",
    "mlp = MLP()\n",
    "```\n",
    "then, initialize the class, specifying the characteristics of the network you want\n",
    "```python\n",
    "mlp.initialize(NI=5, NH=3, NO=1, activation_h=sigmoid, activation_o=linear)\n",
    "```\n",
    "with this call, the network is initialized with 5 input units, 3 units on the (only) hidden layer, and one unit on the output layer. In addition to that, the network will use a sigmoid activation function on the hidden units and a linear activation function on the output unit.  \n",
    "Then you can finally train the network:\n",
    "```python\n",
    "mlp.train(X, y, n_epochs, batch_size, learning_rate, X_test=None, y_test=None)\n",
    "```\n",
    "the usage of all the parameters should be straightforward; if you include a test set, this will be used in order to compare its error with the error of the network on the train set.  \n",
    "Once trained, calling\n",
    "```python\n",
    "mlp.predict(p)\n",
    "```\n",
    "will give you the prediction of the network on the given input point\n"
   ]
  },
  {
   "cell_type": "markdown",
   "metadata": {},
   "source": [
    "## Activation Functions\n",
    "\n",
    "In the following cells, the (supported) activation functions are defined. Each activation function is defined as a class so that calling:\n",
    "```python\n",
    "activation.f(x)\n",
    "```\n",
    "yelds the output of the function for the input x, and calling:\n",
    "```python\n",
    "activation.d_f(x)\n",
    "```\n",
    "yelds the output of the derivative of the function for the input x.  "
   ]
  },
  {
   "cell_type": "code",
   "execution_count": 2,
   "metadata": {},
   "outputs": [],
   "source": [
    "class sigmoid:\n",
    "    def f(x):\n",
    "        return 1/(1+np.exp(-x))\n",
    "    def d_f(x):\n",
    "        return sigmoid.f(x)*(1-sigmoid.f(x))"
   ]
  },
  {
   "cell_type": "code",
   "execution_count": 3,
   "metadata": {},
   "outputs": [],
   "source": [
    "class linear:\n",
    "    def f(x):\n",
    "        return x\n",
    "    def d_f(x):\n",
    "        return 1"
   ]
  },
  {
   "cell_type": "code",
   "execution_count": 4,
   "metadata": {},
   "outputs": [],
   "source": [
    "class tanh:\n",
    "    def f(x):\n",
    "        return np.tanh(x)\n",
    "    def d_f(x):\n",
    "        return 1-tanh.f(x)**2"
   ]
  },
  {
   "cell_type": "markdown",
   "metadata": {},
   "source": [
    "## Error Function\n",
    "For this implementation, the function mean squared error is used as a loss function.  \n",
    "it is computed as $$\\frac{1}{2}\\sum_{i=1}^{|t|} (t_i - y_i)^2$$\n",
    "where $t$ is the target vector and $y$ is the prediction of the network."
   ]
  },
  {
   "cell_type": "code",
   "execution_count": 5,
   "metadata": {},
   "outputs": [],
   "source": [
    "def mse(t, y):\n",
    "        return 0.5 * sum([(v[0]-v[1])**2 for v in zip(t, y)])"
   ]
  },
  {
   "cell_type": "markdown",
   "metadata": {},
   "source": [
    "## Variables and Conventions \n",
    "The (main) variables used throughout the class are the following:  \n",
    "```python\n",
    "NI = # Number of input units\n",
    "NH = # Number of hidden units\n",
    "NO = # Number of output units\n",
    "\n",
    "W1 = # Weights connecting the hidden and the input layer, indexed W1[h, i] where h is the index of the hidden unit and i is the index of the input unit\n",
    "W2 = # Weights connecting the output and the hidden layer, indexed W2[o, h]\n",
    "\n",
    "dW1 = # Temporary store of the changes to be applied to the weights in W1\n",
    "dW2 = # Temporary store of the changes to be applied to the weights in W2\n",
    "\n",
    "H = # Last output of the hidden units \n",
    "O = # Last output of the output units\n",
    "\n",
    "Z1 = # Last input of the hidden units (often called 'net')\n",
    "Z2 = # Last input of the output units\n",
    "\n",
    "activation_h = # Hidden layer activation function\n",
    "activation_o = # Output layer activation function\n",
    "```\n",
    "\n",
    "Throughout the code, the same indexing convention of the book 'Pattern Recognition And Machine Learning' by <i>C. Bishop</i> is used (Neural Networks are covered in chapter 5). In short, the convention consists of indexing the units from $N$ to 1. This is straightforward in cases where biases are involved, in all the other cases the first position of the list (index 0) is initialized and left empty. Following this convention, the lists are iterated in reversed ordering, from the last to the first index."
   ]
  },
  {
   "cell_type": "markdown",
   "metadata": {},
   "source": [
    "## Backpropagation \n",
    "As in the book 'Pattern Recognition And Machine Learning' by <i>C. Bishop</i>, the backpropagation is carried out in the following way:  \n",
    "first of all, the $\\delta$'s of the output units are computed:\n",
    "$$\\delta_{o}=(t_o-y_o)\\times activation'_{out}(net_o)$$\n",
    "where $o$ is the index of the output unit.  \n",
    "These values are then used in order to compute the $\\delta$'s for the hidden units:\n",
    "$$\\delta_{h}=activation'_{hidden}(net_h) \\times \\sum_{o = 1}^{NO}W_{o, h}\\delta_o$$\n",
    "where $h$ is the index of the hidden unit.  \n",
    "The derivatives with respect to the weight connecting the hidden and output layer are then computed as:\n",
    "$$\\frac{\\partial}{\\partial W_{o, h}}=\\delta_o \\times H_h$$\n",
    "where $H_h$ is the last output of the hidden unit $h$. As regards the weights connecting the hidden layer to the input layer, they are computed as:\n",
    "$$\\frac{\\partial}{\\partial W_{h, i}}=\\delta_h \\times X_i$$\n",
    "Then the weights are updated as:\n",
    "$$W_{a, b} = W_{a, b} + \\frac{\\partial}{\\partial W_{a, b}} * learning\\_rate$$"
   ]
  },
  {
   "cell_type": "code",
   "execution_count": 703,
   "metadata": {},
   "outputs": [],
   "source": [
    "class MLP:\n",
    "    def initialize(self, NI, NH, NO, activation_h, activation_o):\n",
    "        \n",
    "        # Number of units per layer\n",
    "        self.NI = NI\n",
    "        self.NH = NH\n",
    "        self.NO = NO\n",
    "                \n",
    "        # Activation functions\n",
    "        self.activation_h = activation_h\n",
    "        self.activation_o = activation_o\n",
    "        \n",
    "        # Random initialization of the weights (performs He initialization)\n",
    "        self.W1 = np.random.randn(self.NH+1, self.NI +1)*np.sqrt(2/(self.NI+self.NH))\n",
    "        self.W2 = np.random.randn(self.NO+1, self.NH +1)*np.sqrt(2/(self.NH+self.NO))\n",
    "        \n",
    "        # Variables storing the updates of the weights, waiting to be performed\n",
    "        self.dW1 = np.zeros((self.NH+1, self.NI +1))\n",
    "        self.dW2 = np.zeros((self.NO+1, self.NH +1))\n",
    "        \n",
    "        # Variables storing the input of the activation functions (nets) \n",
    "        # for the hidden layer (Z1) and for the output layer (Z2)\n",
    "        self.Z1 = np.zeros(self.NH+1)\n",
    "        self.Z2 = np.zeros(self.NO+1)\n",
    "        \n",
    "        # Variables storing the output of the activation functions\n",
    "        self.H = np.ones(self.NH+1)\n",
    "        self.O = np.ones(self.NO+1)\n",
    "        \n",
    "        # Variables storing the average error per epoch\n",
    "        self.errors_train = []\n",
    "        self.errors_testing = []\n",
    "        \n",
    "        # Variable counting the total amount of training epochs\n",
    "        self.n_epochs = 0\n",
    "        \n",
    "        return\n",
    "    \n",
    "    def __forward__(self, I):\n",
    "        \n",
    "        # If the user inputs an np array, this is converted to a list\n",
    "        # The field self.X stores the last input of the network\n",
    "        try:\n",
    "            self.X = I.tolist()\n",
    "        except:\n",
    "            self.X = I\n",
    "        \n",
    "        # For the bias, concatenates a 1 to the beginning of the input X\n",
    "        self.X= [1] + self.X\n",
    "        \n",
    "        # Computes and stores the activations of the hidden layer\n",
    "        for h in reversed(range(1, self.NH+1)):\n",
    "            net = 0\n",
    "            for i in reversed(range(0, self.NI+1)):\n",
    "                net = net + self.X[i]*self.W1[h, i]\n",
    "                \n",
    "            self.Z1[h] = net\n",
    "            self.H[h] = self.activation_h.f(net)\n",
    "            \n",
    "        # Computes and stores the activations of the output layer\n",
    "        for o in reversed(range(1, self.NO+1)):\n",
    "            net = 0\n",
    "            for h in reversed(range(0, self.NH+1)):\n",
    "                net = net + self.H[h]*self.W2[o, h]\n",
    "            self.Z2[o] = net\n",
    "            self.O[o] = self.activation_o.f(net)\n",
    "\n",
    "        # Returns the outputs of the network\n",
    "        return self.O[1:].copy()\n",
    "    \n",
    "    def __backwards__(self, t):\n",
    "        \n",
    "        # If the user inputs an np array, this is converted to a list\n",
    "        # The field self.X stores the last input of the network\n",
    "        try:\n",
    "            self.target = t.tolist()\n",
    "        except:\n",
    "            self.target = t\n",
    "            \n",
    "        # Adds a 1 in the first position of the list in order to be consistent with \n",
    "        # the indexing convention\n",
    "        self.target = [1] + self.target\n",
    "\n",
    "        # Computes the deltas for the output layer\n",
    "        deltas_out = [1]\n",
    "        for o in range(1, self.NO+1):\n",
    "            \n",
    "            # Error = terget[i] - output[i]\n",
    "            current_error = (self.target[o]-self.O[o])\n",
    "            # Derivative = d/dx activation(net)\n",
    "            derivative = self.activation_o.d_f(self.Z2[o])\n",
    "            \n",
    "            deltas_out.append(current_error * derivative)\n",
    "        \n",
    "        \n",
    "        # Computes the deltas for the hidden units \n",
    "        deltas_hidden = []\n",
    "        for h in reversed(range(1, self.NH+1)):\n",
    "            \n",
    "            # Computes the weighted sum delta_output[o]*weight[o, h]\n",
    "            error = 0\n",
    "            for o in reversed(range(1, self.NO+1)):\n",
    "                error += (deltas_out[o] * self.W2[o, h])\n",
    "            \n",
    "            derivative = self.activation_h.d_f(self.Z1[h])\n",
    "            deltas_hidden.append(derivative*error)\n",
    "            \n",
    "        # Adds 1 and reverses the list for indexing consistency\n",
    "        deltas_hidden = list(reversed(deltas_hidden))\n",
    "        deltas_hidden = [1] + deltas_hidden\n",
    "                \n",
    "        # computation of the weight changes\n",
    "        for h in reversed(range(0, self.NH+1)):\n",
    "            for o in reversed(range(1, self.NO+1)):\n",
    "                self.dW2[o, h] = self.dW2[o, h] + (deltas_out[o]*self.H[h])\n",
    "        for i in reversed(range(0, self.NI+1)):\n",
    "            for h in reversed(range(1, self.NH+1)):\n",
    "                self.dW1[h, i] = self.dW1[h, i] + (deltas_hidden[h]*self.X[i])      \n",
    "                \n",
    "        return mse(self.target, self.O)\n",
    "                          \n",
    "    def __update_weights__(self, learning_rate):\n",
    "        \n",
    "        # h iterates over the hidden units, i over the input units\n",
    "        for h in reversed(range(1, self.NH+1)):\n",
    "            for i in reversed(range(0, self.NI+1)):\n",
    "                \n",
    "                update = (learning_rate * self.dW1[h, i])\n",
    "                self.W1[h, i] += update\n",
    "                \n",
    "        for o in reversed(range(1, self.NO+1)):\n",
    "            for h in reversed(range(0, self.NH+1)):\n",
    "                          \n",
    "                update = (learning_rate * self.dW2[o, h])\n",
    "                self.W2[o, h] += update\n",
    "                \n",
    "        self.__initialize_weight_updates__()\n",
    "        return\n",
    "    \n",
    "    def __initialize_weight_updates__(self):\n",
    "        self.dW1 = np.zeros((self.NH+1, self.NI +1))\n",
    "        self.dW2 = np.zeros((self.NO+1, self.NH +1))\n",
    "        return\n",
    "    \n",
    "    def predict(self, X):\n",
    "        return self.__forward__(X)\n",
    "    \n",
    "    def print_all(self):\n",
    "        print(\"Weights\")\n",
    "        print(self.W1)\n",
    "        print(self.W2)\n",
    "        \n",
    "        print(\"Updates\")\n",
    "        print(self.dW1)\n",
    "        print(self.dW2)\n",
    "        \n",
    "        print(\"nets\")\n",
    "        print(self.Z1)\n",
    "        print(self.Z2)\n",
    "        \n",
    "        print(\"Activations\")\n",
    "        print(self.H)\n",
    "        print(self.O)\n",
    "        \n",
    "        return \n",
    "    \n",
    "    def plot_error(self,):\n",
    "        \n",
    "        epochs = [i for i in range(self.n_epochs)]\n",
    "        \n",
    "        msg = \"\\nPlot of average mean squared error for each input\"\n",
    "        msg +=\"\\nin the train set\"\n",
    "        \n",
    "        if self.errors_testing != []:\n",
    "            plt.plot(epochs, self.errors_testing, label=\"test m.s. error\")\n",
    "            msg +=\" and test set:\"\n",
    "                        \n",
    "        plt.plot(epochs, self.errors_train, label=\"train m.s. error\")\n",
    "        plt.ylim=(0, 1)\n",
    "        plt.xlabel('epochs')\n",
    "        plt.ylabel('errors')\n",
    "        \n",
    "        plt.legend(loc='upper right')\n",
    "        print(msg)\n",
    "        plt.show()\n",
    "    \n",
    "    \n",
    "    def train(self, X, y, n_epochs, batch_size, learning_rate, X_test=None, y_test=None):\n",
    "        n_samples = len(X)\n",
    "        \n",
    "        include_errors_testing = False if X_test is None else True\n",
    "        \n",
    "        for e in range(n_epochs):\n",
    "            \n",
    "            error = 0\n",
    "            for i in range(1, n_samples+1):\n",
    "                self.__forward__(X[i-1])\n",
    "                error += self.__backwards__(y[i-1])\n",
    "                \n",
    "                if i % batch_size == 0 or i == n_samples+1:\n",
    "                    self.__update_weights__(learning_rate)\n",
    "            \n",
    "            self.n_epochs += 1\n",
    "            print(\"Epoch = \"+str(self.n_epochs)+\" MSError= \"+str(error))\n",
    "            #self.print_all()\n",
    "            \n",
    "            # Saving the errors for each epoch\n",
    "            self.errors_train.append(error/float(n_samples))\n",
    "            if include_errors_testing:\n",
    "                test_predictions = [self.predict(item) for item in X_test]\n",
    "                individual_test_errors = [mse(v[0], v[1]) for v in zip(test_predictions, y_test)]\n",
    "                self.errors_testing.append(sum(individual_test_errors)/float(len(individual_test_errors)))\n",
    "                \n",
    "\n",
    "        self.plot_error()\n",
    "                    \n",
    "        return\n",
    "    "
   ]
  },
  {
   "cell_type": "markdown",
   "metadata": {},
   "source": [
    "## XOR Test\n",
    "The following cells contain training and testing of an MLP with 2 input units, 2 hidden units and 1 output unit on the XOR problem. The tests have been done with different configurations of hidden and output activation function. In general, the linear activation function performs much better than the sigmoid for the output layer, but this is due to the fact that the targets for the xor are 0 and 1, values that the sigmoid can never practically reach; so it needs an input that tends to minus infinity in order to output 0, and plus infinity in order to get 1. In general, the output of the sigmoid should be seen as a probability that a sample belongs to a certain class; the class is '1' in this example. As regards the hidden layer, the network manages to learn the function without problems independently of the fact that the sigmoid or the tanh aree used; in general, the network seems to converge faster if tanh is used."
   ]
  },
  {
   "cell_type": "code",
   "execution_count": 704,
   "metadata": {},
   "outputs": [],
   "source": [
    "X=[[0, 0], [0, 1], [1, 0], [1, 1]]"
   ]
  },
  {
   "cell_type": "code",
   "execution_count": 705,
   "metadata": {},
   "outputs": [],
   "source": [
    "y = [[0], [1], [1], [0]]"
   ]
  },
  {
   "cell_type": "markdown",
   "metadata": {},
   "source": [
    "### Network initialization and training\n",
    "The output (print of error per each training epoch) is omitted in order to keep the file shorth enough (and readable); in order to get them, just execute the cell. The values of the error function are plotted in the next cell."
   ]
  },
  {
   "cell_type": "code",
   "execution_count": null,
   "metadata": {},
   "outputs": [],
   "source": [
    "mlp_1 = MLP()\n",
    "mlp_1.initialize(NI=2, NH=2, NO=1, activation_h=sigmoid, activation_o=sigmoid)\n",
    "mlp_1.train(X, y, n_epochs=10000, batch_size=2, learning_rate=0.5)"
   ]
  },
  {
   "cell_type": "code",
   "execution_count": 707,
   "metadata": {},
   "outputs": [
    {
     "name": "stdout",
     "output_type": "stream",
     "text": [
      "\n",
      "Plot of average mean squared error for each input\n",
      "in the train set\n"
     ]
    },
    {
     "data": {
      "image/png": "[encoded data removed]",
      "text/plain": [
       "<Figure size 432x288 with 1 Axes>"
      ]
     },
     "metadata": {
      "needs_background": "light"
     },
     "output_type": "display_data"
    }
   ],
   "source": [
    "mlp_1.plot_error()"
   ]
  },
  {
   "cell_type": "markdown",
   "metadata": {},
   "source": [
    "### Predictions\n",
    "The following are the predicitons by the trained network"
   ]
  },
  {
   "cell_type": "code",
   "execution_count": 725,
   "metadata": {},
   "outputs": [
    {
     "data": {
      "text/plain": [
       "[([0, 0], 0.01594644031364976),\n",
       " ([0, 1], 0.9816919288986803),\n",
       " ([1, 0], 0.9816928980177377),\n",
       " ([1, 1], 0.01743384951414263)]"
      ]
     },
     "execution_count": 725,
     "metadata": {},
     "output_type": "execute_result"
    }
   ],
   "source": [
    "[(x, mlp_1.predict(x)[0]) for x in X]"
   ]
  },
  {
   "cell_type": "code",
   "execution_count": null,
   "metadata": {},
   "outputs": [],
   "source": [
    "mlp_2 = MLP()\n",
    "mlp_2.initialize(NI=2, NH=2, NO=1, activation_h=tanh, activation_o=sigmoid)\n",
    "mlp_2.train(X, y, n_epochs=10000, batch_size=2, learning_rate=0.5)"
   ]
  },
  {
   "cell_type": "code",
   "execution_count": 709,
   "metadata": {},
   "outputs": [
    {
     "name": "stdout",
     "output_type": "stream",
     "text": [
      "\n",
      "Plot of average mean squared error for each input\n",
      "in the train set\n"
     ]
    },
    {
     "data": {
      "image/png": "[encoded data removed]",
      "text/plain": [
       "<Figure size 432x288 with 1 Axes>"
      ]
     },
     "metadata": {
      "needs_background": "light"
     },
     "output_type": "display_data"
    }
   ],
   "source": [
    "mlp_2.plot_error()"
   ]
  },
  {
   "cell_type": "code",
   "execution_count": 726,
   "metadata": {},
   "outputs": [
    {
     "data": {
      "text/plain": [
       "[([0, 0], 0.007964183053270395),\n",
       " ([0, 1], 0.9895352883463033),\n",
       " ([1, 0], 0.9894010910589915),\n",
       " ([1, 1], 0.007289547826205509)]"
      ]
     },
     "execution_count": 726,
     "metadata": {},
     "output_type": "execute_result"
    }
   ],
   "source": [
    "[(x, mlp_2.predict(x)[0]) for x in X]"
   ]
  },
  {
   "cell_type": "code",
   "execution_count": null,
   "metadata": {},
   "outputs": [],
   "source": [
    "mlp_3 = MLP()\n",
    "mlp_3.initialize(NI=2, NH=2, NO=1, activation_h=tanh, activation_o=tanh)\n",
    "mlp_3.train(X, y, n_epochs=10000, batch_size=2, learning_rate=0.5)"
   ]
  },
  {
   "cell_type": "code",
   "execution_count": 711,
   "metadata": {},
   "outputs": [
    {
     "name": "stdout",
     "output_type": "stream",
     "text": [
      "\n",
      "Plot of average mean squared error for each input\n",
      "in the train set\n"
     ]
    },
    {
     "data": {
      "image/png": "[encoded data removed]",
      "text/plain": [
       "<Figure size 432x288 with 1 Axes>"
      ]
     },
     "metadata": {
      "needs_background": "light"
     },
     "output_type": "display_data"
    }
   ],
   "source": [
    "mlp_3.plot_error()"
   ]
  },
  {
   "cell_type": "code",
   "execution_count": 727,
   "metadata": {},
   "outputs": [
    {
     "data": {
      "text/plain": [
       "[([0, 0], 2.5649104762530425e-05),\n",
       " ([0, 1], 0.9964919387326507),\n",
       " ([1, 0], 0.9963112551937834),\n",
       " ([1, 1], -8.96932007547297e-06)]"
      ]
     },
     "execution_count": 727,
     "metadata": {},
     "output_type": "execute_result"
    }
   ],
   "source": [
    "[(x, mlp_3.predict(x)[0]) for x in X]"
   ]
  },
  {
   "cell_type": "code",
   "execution_count": null,
   "metadata": {},
   "outputs": [],
   "source": [
    "mlp_4 = MLP()\n",
    "mlp_4.initialize(NI=2, NH=2, NO=1, activation_h=tanh, activation_o=linear)\n",
    "mlp_4.train(X, y, n_epochs=10000, batch_size=2, learning_rate=0.05)"
   ]
  },
  {
   "cell_type": "code",
   "execution_count": 731,
   "metadata": {},
   "outputs": [
    {
     "name": "stdout",
     "output_type": "stream",
     "text": [
      "\n",
      "Plot of average mean squared error for each input\n",
      "in the train set\n"
     ]
    },
    {
     "data": {
      "image/png": "[encoded data removed]",
      "text/plain": [
       "<Figure size 432x288 with 1 Axes>"
      ]
     },
     "metadata": {
      "needs_background": "light"
     },
     "output_type": "display_data"
    }
   ],
   "source": [
    "mlp_4.plot_error()"
   ]
  },
  {
   "cell_type": "code",
   "execution_count": 732,
   "metadata": {},
   "outputs": [
    {
     "data": {
      "text/plain": [
       "[([0, 0], 1.7763568394002505e-15),\n",
       " ([0, 1], 0.9999999999999969),\n",
       " ([1, 0], 0.9999999999999991),\n",
       " ([1, 1], 2.4424906541753444e-15)]"
      ]
     },
     "execution_count": 732,
     "metadata": {},
     "output_type": "execute_result"
    }
   ],
   "source": [
    "[(x, mlp_4.predict(x)[0]) for x in X]"
   ]
  },
  {
   "cell_type": "code",
   "execution_count": null,
   "metadata": {},
   "outputs": [],
   "source": [
    "mlp_5 = MLP()\n",
    "mlp_5.initialize(NI=2, NH=2, NO=1, activation_h=sigmoid, activation_o=linear)\n",
    "mlp_5.train(X, y, n_epochs=10000, batch_size=2, learning_rate=0.05)"
   ]
  },
  {
   "cell_type": "code",
   "execution_count": 715,
   "metadata": {},
   "outputs": [
    {
     "name": "stdout",
     "output_type": "stream",
     "text": [
      "\n",
      "Plot of average mean squared error for each input\n",
      "in the train set\n"
     ]
    },
    {
     "data": {
      "image/png": "[encoded data removed]",
      "text/plain": [
       "<Figure size 432x288 with 1 Axes>"
      ]
     },
     "metadata": {
      "needs_background": "light"
     },
     "output_type": "display_data"
    }
   ],
   "source": [
    "mlp_5.plot_error()"
   ]
  },
  {
   "cell_type": "code",
   "execution_count": 232,
   "metadata": {},
   "outputs": [
    {
     "data": {
      "text/plain": [
       "[([0, 0], 1.4632739464559563e-13),\n",
       " ([0, 1], 0.9999999999998876),\n",
       " ([1, 0], 0.9999999999999435),\n",
       " ([1, 1], 1.8207657603852567e-14)]"
      ]
     },
     "execution_count": 232,
     "metadata": {},
     "output_type": "execute_result"
    }
   ],
   "source": [
    "[(x, mlp_5.predict(x)[0]) for x in X]"
   ]
  },
  {
   "cell_type": "code",
   "execution_count": null,
   "metadata": {},
   "outputs": [],
   "source": [
    "mlp_6 = MLP()\n",
    "mlp_6.initialize(NI=2, NH=2, NO=1, activation_h=sigmoid, activation_o=linear)\n",
    "mlp_6.train(X, y, n_epochs=10000, batch_size=2, learning_rate=0.1)"
   ]
  },
  {
   "cell_type": "code",
   "execution_count": 717,
   "metadata": {},
   "outputs": [
    {
     "name": "stdout",
     "output_type": "stream",
     "text": [
      "\n",
      "Plot of average mean squared error for each input\n",
      "in the train set\n"
     ]
    },
    {
     "data": {
      "image/png": "[encoded data removed]",
      "text/plain": [
       "<Figure size 432x288 with 1 Axes>"
      ]
     },
     "metadata": {
      "needs_background": "light"
     },
     "output_type": "display_data"
    }
   ],
   "source": [
    "mlp_6.plot_error()"
   ]
  },
  {
   "cell_type": "code",
   "execution_count": 234,
   "metadata": {},
   "outputs": [
    {
     "data": {
      "text/plain": [
       "[([0, 0], 2.6645352591003757e-15),\n",
       " ([0, 1], 0.9999999999999968),\n",
       " ([1, 0], 0.9999999999999966),\n",
       " ([1, 1], 3.4416913763379853e-15)]"
      ]
     },
     "execution_count": 234,
     "metadata": {},
     "output_type": "execute_result"
    }
   ],
   "source": [
    "[(x, mlp_6.predict(x)[0]) for x in X]"
   ]
  },
  {
   "cell_type": "markdown",
   "metadata": {},
   "source": [
    "## Sin Approximation Problem\n",
    "A training set of 200 vectors (each one consisting of 4 random numbers in $]-1, 1[$ ) is generated. For each of this vectors, a label is generated as $sin(v_0-v_1+v_2-v_3)$. Of the 200 samples, 150 are used for trainig and 50 for testing. The networks, except for some cases, seem to learn without problems, with a perfect generalization on the test samples. Compared with the XOR problem, in order to approximate this function through the mlp it is necessary to set a smaller learning rate, otherwise the gradients explode very quickly, or the values of the loss oscillate too much, symptom that the network is not learning.  \n",
    "The testes topology has 4 input units, 5 hidden units and 1 output unit."
   ]
  },
  {
   "cell_type": "code",
   "execution_count": 718,
   "metadata": {},
   "outputs": [],
   "source": [
    "X_sin = [np.random.randn(1, 4)[0] for i in range(200)]\n",
    "y_sin = [[math.sin(v[0]-v[1]+v[2]-v[3])] for v in X_sin]\n",
    "\n",
    "\n",
    "X_train, y_train, X_test, y_test = X_sin[:150], y_sin[:150], X_sin[150:], y_sin[150:]"
   ]
  },
  {
   "cell_type": "code",
   "execution_count": null,
   "metadata": {},
   "outputs": [],
   "source": [
    "mlp_7 = MLP()\n",
    "mlp_7.initialize(NI=4, NH=5, NO=1, activation_h=sigmoid, activation_o=linear)\n",
    "mlp_7.train(X_train, y_train, n_epochs=10000, batch_size=50, learning_rate=0.0025, X_test=X_test, y_test=y_test)"
   ]
  },
  {
   "cell_type": "markdown",
   "metadata": {},
   "source": [
    "### Overfitting\n",
    "In the following case, it is evident that the network is overfitting the training data."
   ]
  },
  {
   "cell_type": "code",
   "execution_count": 720,
   "metadata": {},
   "outputs": [
    {
     "name": "stdout",
     "output_type": "stream",
     "text": [
      "\n",
      "Plot of average mean squared error for each input\n",
      "in the train set and test set:\n"
     ]
    },
    {
     "data": {
      "image/png": "[encoded data removed]",
      "text/plain": [
       "<Figure size 432x288 with 1 Axes>"
      ]
     },
     "metadata": {
      "needs_background": "light"
     },
     "output_type": "display_data"
    }
   ],
   "source": [
    "mlp_7.plot_error()"
   ]
  },
  {
   "cell_type": "markdown",
   "metadata": {},
   "source": [
    "### Test-Set Predictions\n",
    "The following cell shows the predictions on the test set"
   ]
  },
  {
   "cell_type": "code",
   "execution_count": 721,
   "metadata": {},
   "outputs": [
    {
     "name": "stdout",
     "output_type": "stream",
     "text": [
      "Prediction: -0.0465 Target: -0.1182\n",
      "Prediction: 0.8056 Target: 0.9774\n",
      "Prediction: -0.7984 Target: -0.7489\n",
      "Prediction: -0.4097 Target: -0.9947\n",
      "Prediction: 0.5009 Target: 0.4018\n",
      "Prediction: 0.5294 Target: 0.4324\n",
      "Prediction: -0.3702 Target: -0.5492\n",
      "Prediction: -0.8736 Target: -0.9722\n",
      "Prediction: 0.8598 Target: 0.9246\n",
      "Prediction: 0.8576 Target: 0.9947\n",
      "Prediction: -0.7147 Target: -0.6041\n",
      "Prediction: 0.8777 Target: 0.9997\n",
      "Prediction: -0.9838 Target: -0.8942\n",
      "Prediction: 0.5849 Target: 0.5993\n",
      "Prediction: -0.3701 Target: -0.4530\n",
      "Prediction: 0.5895 Target: 0.5186\n",
      "Prediction: 0.8320 Target: 0.9806\n",
      "Prediction: 0.6489 Target: 0.8276\n",
      "Prediction: -0.7305 Target: -0.8205\n",
      "Prediction: 0.8584 Target: 0.8913\n",
      "Prediction: 0.4259 Target: 0.6591\n",
      "Prediction: -0.9259 Target: -0.9983\n",
      "Prediction: -0.8210 Target: -0.7794\n",
      "Prediction: -1.1402 Target: -0.7395\n",
      "Prediction: -0.3862 Target: -0.5659\n",
      "Prediction: 0.7015 Target: 0.7782\n",
      "Prediction: -0.0776 Target: -0.0862\n",
      "Prediction: 2.1267 Target: -0.1835\n",
      "Prediction: 0.5986 Target: 0.7329\n",
      "Prediction: 0.3646 Target: 0.3049\n",
      "Prediction: 0.7812 Target: 0.8199\n",
      "Prediction: -0.2114 Target: -0.2584\n",
      "Prediction: 0.7367 Target: 0.7327\n",
      "Prediction: -0.3227 Target: -0.9974\n",
      "Prediction: -0.6568 Target: -0.5555\n",
      "Prediction: 0.7524 Target: 0.7913\n",
      "Prediction: -0.7143 Target: -0.6247\n",
      "Prediction: -0.5563 Target: -0.9673\n",
      "Prediction: -0.9055 Target: -0.8340\n",
      "Prediction: 0.4793 Target: 0.3623\n",
      "Prediction: -0.2513 Target: -0.2174\n",
      "Prediction: 0.6013 Target: 0.5704\n",
      "Prediction: 0.0362 Target: -0.3074\n",
      "Prediction: 0.1759 Target: -0.0266\n",
      "Prediction: -0.5851 Target: -0.5226\n",
      "Prediction: -0.4460 Target: -0.3912\n",
      "Prediction: -0.3965 Target: -0.3762\n",
      "Prediction: -0.5782 Target: -0.6692\n",
      "Prediction: 1.3513 Target: 0.7572\n",
      "Prediction: -0.8960 Target: -0.8269\n"
     ]
    }
   ],
   "source": [
    "_ = [print(\"Prediction: %.4f Target: %.4f\"%(mlp_7.predict(v[0])[0], v[1][0])) for v in zip(X_test, y_test)]"
   ]
  },
  {
   "cell_type": "code",
   "execution_count": null,
   "metadata": {},
   "outputs": [],
   "source": [
    "mlp_8 = MLP()\n",
    "mlp_8.initialize(NI=4, NH=5, NO=1, activation_h=tanh, activation_o=linear)\n",
    "mlp_8.train(X_train, y_train, n_epochs=10000, batch_size=50, learning_rate=0.0025, X_test=X_test, y_test=y_test)"
   ]
  },
  {
   "cell_type": "code",
   "execution_count": 723,
   "metadata": {},
   "outputs": [
    {
     "name": "stdout",
     "output_type": "stream",
     "text": [
      "\n",
      "Plot of average mean squared error for each input\n",
      "in the train set and test set:\n"
     ]
    },
    {
     "data": {
      "image/png": "[encoded data removed]",
      "text/plain": [
       "<Figure size 432x288 with 1 Axes>"
      ]
     },
     "metadata": {
      "needs_background": "light"
     },
     "output_type": "display_data"
    }
   ],
   "source": [
    "mlp_8.plot_error()"
   ]
  },
  {
   "cell_type": "code",
   "execution_count": 733,
   "metadata": {},
   "outputs": [
    {
     "name": "stdout",
     "output_type": "stream",
     "text": [
      "Prediction: -0.0930 Target: -0.1182\n",
      "Prediction: 0.9809 Target: 0.9774\n",
      "Prediction: -0.7523 Target: -0.7489\n",
      "Prediction: -0.7599 Target: -0.9947\n",
      "Prediction: 0.4001 Target: 0.4018\n",
      "Prediction: 0.4373 Target: 0.4324\n",
      "Prediction: -0.4921 Target: -0.5492\n",
      "Prediction: -0.9589 Target: -0.9722\n",
      "Prediction: 0.8991 Target: 0.9246\n",
      "Prediction: 1.0093 Target: 0.9947\n",
      "Prediction: -0.5999 Target: -0.6041\n",
      "Prediction: 0.9965 Target: 0.9997\n",
      "Prediction: -0.8931 Target: -0.8942\n",
      "Prediction: 0.5837 Target: 0.5993\n",
      "Prediction: -0.3828 Target: -0.4530\n",
      "Prediction: 0.5157 Target: 0.5186\n",
      "Prediction: 0.9839 Target: 0.9806\n",
      "Prediction: 0.7452 Target: 0.8276\n",
      "Prediction: -0.8123 Target: -0.8205\n",
      "Prediction: 0.8761 Target: 0.8913\n",
      "Prediction: 0.7064 Target: 0.6591\n",
      "Prediction: -0.9981 Target: -0.9983\n",
      "Prediction: -0.7826 Target: -0.7794\n",
      "Prediction: -0.7255 Target: -0.7395\n",
      "Prediction: -0.5175 Target: -0.5659\n",
      "Prediction: 0.7890 Target: 0.7782\n",
      "Prediction: -0.0630 Target: -0.0862\n",
      "Prediction: 1.2433 Target: -0.1835\n",
      "Prediction: 0.7554 Target: 0.7329\n",
      "Prediction: 0.2673 Target: 0.3049\n",
      "Prediction: 0.8008 Target: 0.8199\n",
      "Prediction: -0.2463 Target: -0.2584\n",
      "Prediction: 0.7125 Target: 0.7327\n",
      "Prediction: -0.7963 Target: -0.9974\n",
      "Prediction: -0.5464 Target: -0.5555\n",
      "Prediction: 0.7283 Target: 0.7913\n",
      "Prediction: -0.6159 Target: -0.6247\n",
      "Prediction: -0.8637 Target: -0.9673\n",
      "Prediction: -0.8382 Target: -0.8340\n",
      "Prediction: 0.3689 Target: 0.3623\n",
      "Prediction: -0.2023 Target: -0.2174\n",
      "Prediction: 0.5616 Target: 0.5704\n",
      "Prediction: -0.3509 Target: -0.3074\n",
      "Prediction: -0.0654 Target: -0.0266\n",
      "Prediction: -0.5114 Target: -0.5226\n",
      "Prediction: -0.3823 Target: -0.3912\n",
      "Prediction: -0.3689 Target: -0.3762\n",
      "Prediction: -0.6481 Target: -0.6692\n",
      "Prediction: 1.1527 Target: 0.7572\n",
      "Prediction: -0.8349 Target: -0.8269\n"
     ]
    }
   ],
   "source": [
    "_ = [print(\"Prediction: %.4f Target: %.4f\"%(mlp_8.predict(v[0])[0], v[1][0])) for v in zip(X_test, y_test)]"
   ]
  },
  {
   "cell_type": "code",
   "execution_count": null,
   "metadata": {},
   "outputs": [],
   "source": [
    "# Test with batch_size = 150\n",
    "\n",
    "mlp_9 = MLP()\n",
    "mlp_9.initialize(NI=4, NH=5, NO=1, activation_h=tanh, activation_o=linear)\n",
    "mlp_9.train(X_train, y_train, n_epochs=10000, batch_size=150, learning_rate=0.0025, X_test=X_test, y_test=y_test)"
   ]
  },
  {
   "cell_type": "code",
   "execution_count": 747,
   "metadata": {},
   "outputs": [
    {
     "name": "stdout",
     "output_type": "stream",
     "text": [
      "\n",
      "Plot of average mean squared error for each input\n",
      "in the train set and test set:\n"
     ]
    },
    {
     "data": {
      "image/png": "[encoded data removed]",
      "text/plain": [
       "<Figure size 432x288 with 1 Axes>"
      ]
     },
     "metadata": {
      "needs_background": "light"
     },
     "output_type": "display_data"
    }
   ],
   "source": [
    "mlp_9.plot_error()"
   ]
  },
  {
   "cell_type": "code",
   "execution_count": 748,
   "metadata": {},
   "outputs": [
    {
     "name": "stdout",
     "output_type": "stream",
     "text": [
      "Prediction: -0.0574 Target: -0.1182\n",
      "Prediction: 0.9827 Target: 0.9774\n",
      "Prediction: -0.7451 Target: -0.7489\n",
      "Prediction: -0.5615 Target: -0.9947\n",
      "Prediction: 0.3902 Target: 0.4018\n",
      "Prediction: 0.4383 Target: 0.4324\n",
      "Prediction: -0.5294 Target: -0.5492\n",
      "Prediction: -0.9653 Target: -0.9722\n",
      "Prediction: 0.9266 Target: 0.9246\n",
      "Prediction: 1.0337 Target: 0.9947\n",
      "Prediction: -0.6028 Target: -0.6041\n",
      "Prediction: 1.0048 Target: 0.9997\n",
      "Prediction: -0.8849 Target: -0.8942\n",
      "Prediction: 0.5892 Target: 0.5993\n",
      "Prediction: -0.4665 Target: -0.4530\n",
      "Prediction: 0.5184 Target: 0.5186\n",
      "Prediction: 0.9819 Target: 0.9806\n",
      "Prediction: 0.7504 Target: 0.8276\n",
      "Prediction: -0.8142 Target: -0.8205\n",
      "Prediction: 0.8887 Target: 0.8913\n",
      "Prediction: 0.7428 Target: 0.6591\n",
      "Prediction: -0.9978 Target: -0.9983\n",
      "Prediction: -0.7630 Target: -0.7794\n",
      "Prediction: -0.5564 Target: -0.7395\n",
      "Prediction: -0.5472 Target: -0.5659\n",
      "Prediction: 0.7266 Target: 0.7782\n",
      "Prediction: -0.0596 Target: -0.0862\n",
      "Prediction: 1.1317 Target: -0.1835\n",
      "Prediction: 0.7422 Target: 0.7329\n",
      "Prediction: 0.2156 Target: 0.3049\n",
      "Prediction: 0.8265 Target: 0.8199\n",
      "Prediction: -0.2590 Target: -0.2584\n",
      "Prediction: 0.7385 Target: 0.7327\n",
      "Prediction: -0.4488 Target: -0.9974\n",
      "Prediction: -0.5327 Target: -0.5555\n",
      "Prediction: 0.8174 Target: 0.7913\n",
      "Prediction: -0.5931 Target: -0.6247\n",
      "Prediction: -0.7594 Target: -0.9673\n",
      "Prediction: -0.8327 Target: -0.8340\n",
      "Prediction: 0.3713 Target: 0.3623\n",
      "Prediction: -0.2101 Target: -0.2174\n",
      "Prediction: 0.5825 Target: 0.5704\n",
      "Prediction: -0.3075 Target: -0.3074\n",
      "Prediction: -0.0760 Target: -0.0266\n",
      "Prediction: -0.5072 Target: -0.5226\n",
      "Prediction: -0.3704 Target: -0.3912\n",
      "Prediction: -0.3638 Target: -0.3762\n",
      "Prediction: -0.6590 Target: -0.6692\n",
      "Prediction: 1.0305 Target: 0.7572\n",
      "Prediction: -0.8152 Target: -0.8269\n"
     ]
    }
   ],
   "source": [
    "_ = [print(\"Prediction: %.4f Target: %.4f\"%(mlp_9.predict(v[0])[0], v[1][0])) for v in zip(X_test, y_test)]"
   ]
  },
  {
   "cell_type": "code",
   "execution_count": null,
   "metadata": {},
   "outputs": [],
   "source": [
    "# Test with batch_size = 1\n",
    "\n",
    "mlp_10 = MLP()\n",
    "mlp_10.initialize(NI=4, NH=5, NO=1, activation_h=tanh, activation_o=linear)\n",
    "mlp_10.train(X_train, y_train, n_epochs=10000, batch_size=1, learning_rate=0.0025, X_test=X_test, y_test=y_test)"
   ]
  },
  {
   "cell_type": "code",
   "execution_count": 745,
   "metadata": {},
   "outputs": [
    {
     "name": "stdout",
     "output_type": "stream",
     "text": [
      "\n",
      "Plot of average mean squared error for each input\n",
      "in the train set and test set:\n"
     ]
    },
    {
     "data": {
      "image/png": "[encoded data removed]",
      "text/plain": [
       "<Figure size 432x288 with 1 Axes>"
      ]
     },
     "metadata": {
      "needs_background": "light"
     },
     "output_type": "display_data"
    }
   ],
   "source": [
    "mlp_10.plot_error()"
   ]
  },
  {
   "cell_type": "code",
   "execution_count": 746,
   "metadata": {},
   "outputs": [
    {
     "name": "stdout",
     "output_type": "stream",
     "text": [
      "Prediction: -0.0797 Target: -0.1182\n",
      "Prediction: 0.9716 Target: 0.9774\n",
      "Prediction: -0.7287 Target: -0.7489\n",
      "Prediction: -0.5162 Target: -0.9947\n",
      "Prediction: 0.3440 Target: 0.4018\n",
      "Prediction: 0.3943 Target: 0.4324\n",
      "Prediction: -0.6310 Target: -0.5492\n",
      "Prediction: -1.0046 Target: -0.9722\n",
      "Prediction: 0.9279 Target: 0.9246\n",
      "Prediction: 1.1121 Target: 0.9947\n",
      "Prediction: -0.6152 Target: -0.6041\n",
      "Prediction: 0.9977 Target: 0.9997\n",
      "Prediction: -0.9331 Target: -0.8942\n",
      "Prediction: 0.6023 Target: 0.5993\n",
      "Prediction: -0.6613 Target: -0.4530\n",
      "Prediction: 0.4940 Target: 0.5186\n",
      "Prediction: 0.9800 Target: 0.9806\n",
      "Prediction: 0.7248 Target: 0.8276\n",
      "Prediction: -0.8225 Target: -0.8205\n",
      "Prediction: 0.8684 Target: 0.8913\n",
      "Prediction: 0.7329 Target: 0.6591\n",
      "Prediction: -1.0478 Target: -0.9983\n",
      "Prediction: -0.7385 Target: -0.7794\n",
      "Prediction: -0.6954 Target: -0.7395\n",
      "Prediction: -0.5976 Target: -0.5659\n",
      "Prediction: 0.6886 Target: 0.7782\n",
      "Prediction: -0.0220 Target: -0.0862\n",
      "Prediction: 1.6698 Target: -0.1835\n",
      "Prediction: 0.7305 Target: 0.7329\n",
      "Prediction: 0.2296 Target: 0.3049\n",
      "Prediction: 0.8204 Target: 0.8199\n",
      "Prediction: -0.2604 Target: -0.2584\n",
      "Prediction: 0.7201 Target: 0.7327\n",
      "Prediction: -0.2343 Target: -0.9974\n",
      "Prediction: -0.5641 Target: -0.5555\n",
      "Prediction: 0.9365 Target: 0.7913\n",
      "Prediction: -0.5882 Target: -0.6247\n",
      "Prediction: -0.8059 Target: -0.9673\n",
      "Prediction: -0.8346 Target: -0.8340\n",
      "Prediction: 0.3250 Target: 0.3623\n",
      "Prediction: -0.2096 Target: -0.2174\n",
      "Prediction: 0.5429 Target: 0.5704\n",
      "Prediction: -0.2369 Target: -0.3074\n",
      "Prediction: -0.0419 Target: -0.0266\n",
      "Prediction: -0.4906 Target: -0.5226\n",
      "Prediction: -0.3819 Target: -0.3912\n",
      "Prediction: -0.3637 Target: -0.3762\n",
      "Prediction: -0.6323 Target: -0.6692\n",
      "Prediction: 0.9828 Target: 0.7572\n",
      "Prediction: -0.8112 Target: -0.8269\n"
     ]
    }
   ],
   "source": [
    "_ = [print(\"Prediction: %.4f Target: %.4f\"%(mlp_10.predict(v[0])[0], v[1][0])) for v in zip(X_test, y_test)]"
   ]
  },
  {
   "cell_type": "markdown",
   "metadata": {},
   "source": [
    "## Uci Letters Recognition Problem\n",
    "Problem of recognizing written letters based on some visual-numerical characteristics. The full dataset consists of 20000 letters, 16000 of wich are used for the network training. In order to perform training in a more efficient way, the inputs are scaled through a StandardScaler, provided by Sklearn, and a One-Hot-Encoder is used in order to encode letters as (one-hot) binary arrays.  \n",
    "\n",
    "Differently from the other (much simpler) problems, this network requires a much bigger number of parameters (so a bigger hidden layer). Tests carried on with a smaller hidden layer (10-20 units) required a very long time to optimize the cost function; the provided architecture (40 hidden units) takes more time per epoch for the learning, but the optimization is orders of magnitudes faster. On the output layer, the sigmoid function is used in order to estimate the probability for each specific class; on the hidden layer the tanh activation is used. After few epochs (around 30), the network is able to predict correectly thee labels of the train set with a probability around 90-92%, while the prediction on the test set reach an accuracy of roughly 85%. \n",
    "\n",
    "After 50 epochs, the network starts to overfit (the training loss decreases, while the test loss increases), so the training is stopped."
   ]
  },
  {
   "cell_type": "code",
   "execution_count": 518,
   "metadata": {},
   "outputs": [],
   "source": [
    "letters_dataset = pd.read_csv(\"letter-recognition.data\")\n",
    "X_letters, y_letters = letters_dataset.values[:, 1:], letters_dataset.values[:, :1]"
   ]
  },
  {
   "cell_type": "code",
   "execution_count": 519,
   "metadata": {},
   "outputs": [],
   "source": [
    "encoder= OneHotEncoder(sparse=False)\n",
    "y_letters = encoder.fit_transform(y_letters)"
   ]
  },
  {
   "cell_type": "code",
   "execution_count": 520,
   "metadata": {},
   "outputs": [
    {
     "name": "stderr",
     "output_type": "stream",
     "text": [
      "/Users/giovanniciampi/anaconda3/envs/lstm_test/lib/python3.7/site-packages/sklearn/utils/validation.py:595: DataConversionWarning: Data with input dtype object was converted to float64 by StandardScaler.\n",
      "  warnings.warn(msg, DataConversionWarning)\n",
      "/Users/giovanniciampi/anaconda3/envs/lstm_test/lib/python3.7/site-packages/sklearn/utils/validation.py:595: DataConversionWarning: Data with input dtype object was converted to float64 by StandardScaler.\n",
      "  warnings.warn(msg, DataConversionWarning)\n"
     ]
    }
   ],
   "source": [
    "scaler = StandardScaler()\n",
    "X_letters = scaler.fit_transform(X_letters)"
   ]
  },
  {
   "cell_type": "code",
   "execution_count": 521,
   "metadata": {},
   "outputs": [],
   "source": [
    "X_letters_train, y_letters_train = X_letters[:16000], y_letters[:16000]"
   ]
  },
  {
   "cell_type": "code",
   "execution_count": 522,
   "metadata": {},
   "outputs": [],
   "source": [
    "X_letters_test, y_letters_test = X_letters[16000:], y_letters[16000:]"
   ]
  },
  {
   "cell_type": "code",
   "execution_count": 636,
   "metadata": {},
   "outputs": [
    {
     "name": "stdout",
     "output_type": "stream",
     "text": [
      "Epoch = 1 MSError= 4439.464587538895\n",
      "Epoch = 2 MSError= 2697.9050869954326\n",
      "Epoch = 3 MSError= 2341.7185500077376\n",
      "Epoch = 4 MSError= 2169.029625717901\n",
      "Epoch = 5 MSError= 2067.067940163161\n",
      "Epoch = 6 MSError= 1980.5539467402782\n",
      "Epoch = 7 MSError= 1912.02393684197\n",
      "Epoch = 8 MSError= 1863.9706975305016\n",
      "Epoch = 9 MSError= 1825.4179291554804\n",
      "Epoch = 10 MSError= 1792.5180682348641\n",
      "Epoch = 11 MSError= 1764.2301280248682\n",
      "Epoch = 12 MSError= 1740.1090535481428\n",
      "Epoch = 13 MSError= 1717.0880126383681\n",
      "Epoch = 14 MSError= 1693.5466247420904\n",
      "Epoch = 15 MSError= 1672.8472998086127\n",
      "Epoch = 16 MSError= 1655.3415247859932\n",
      "Epoch = 17 MSError= 1639.7844668497607\n",
      "Epoch = 18 MSError= 1627.6669153589296\n",
      "Epoch = 19 MSError= 1616.800803809947\n",
      "Epoch = 20 MSError= 1606.9139879045454\n",
      "\n",
      "Plot of average mean squared error for each input\n",
      "in the train set and test set:\n"
     ]
    },
    {
     "data": {
      "image/png": "[encoded data removed]",
      "text/plain": [
       "<Figure size 432x288 with 1 Axes>"
      ]
     },
     "metadata": {
      "needs_background": "light"
     },
     "output_type": "display_data"
    }
   ],
   "source": [
    "mlp_14 = MLP()\n",
    "mlp_14.initialize(NI=16, NH=40, NO=26, activation_h=tanh, activation_o=sigmoid)\n",
    "mlp_14.train(X_letters_train, y_letters_train, n_epochs=20, batch_size=50, learning_rate=0.1, X_test=X_letters_test, y_test=y_letters_test)"
   ]
  },
  {
   "cell_type": "code",
   "execution_count": 639,
   "metadata": {},
   "outputs": [
    {
     "name": "stdout",
     "output_type": "stream",
     "text": [
      "Epoch = 21 MSError= 1597.3973206903945\n",
      "Epoch = 22 MSError= 1588.956426043098\n",
      "Epoch = 23 MSError= 1581.844207871976\n",
      "Epoch = 24 MSError= 1575.5779957657269\n",
      "Epoch = 25 MSError= 1568.322750171903\n",
      "Epoch = 26 MSError= 1560.7696142231016\n",
      "Epoch = 27 MSError= 1554.2317544337527\n",
      "Epoch = 28 MSError= 1548.9323902459414\n",
      "Epoch = 29 MSError= 1544.027236495132\n",
      "Epoch = 30 MSError= 1538.651143356069\n",
      "\n",
      "Plot of average mean squared error for each input\n",
      "in the train set and test set:\n"
     ]
    },
    {
     "data": {
      "image/png": "[encoded data removed]",
      "text/plain": [
       "<Figure size 432x288 with 1 Axes>"
      ]
     },
     "metadata": {
      "needs_background": "light"
     },
     "output_type": "display_data"
    }
   ],
   "source": [
    "mlp_14.train(X_letters_train, y_letters_train, n_epochs=10, batch_size=50, learning_rate=0.1, X_test=X_letters_test, y_test=y_letters_test)\n",
    "#"
   ]
  },
  {
   "cell_type": "code",
   "execution_count": 682,
   "metadata": {},
   "outputs": [
    {
     "name": "stdout",
     "output_type": "stream",
     "text": [
      "Epoch = 31 MSError= 1533.4968342369107\n",
      "Epoch = 32 MSError= 1528.438304588581\n",
      "Epoch = 33 MSError= 1525.1140270583899\n",
      "Epoch = 34 MSError= 1522.121127229223\n",
      "Epoch = 35 MSError= 1518.6661751516149\n",
      "Epoch = 36 MSError= 1513.9170127613804\n",
      "Epoch = 37 MSError= 1509.875994419719\n",
      "Epoch = 38 MSError= 1506.7536348073106\n",
      "Epoch = 39 MSError= 1502.6837683871877\n",
      "Epoch = 40 MSError= 1498.3543323535707\n",
      "Epoch = 41 MSError= 1494.6385576825894\n",
      "Epoch = 42 MSError= 1491.2493373945413\n",
      "Epoch = 43 MSError= 1488.2639619503673\n",
      "Epoch = 44 MSError= 1485.5697033757926\n",
      "Epoch = 45 MSError= 1481.4736354039258\n",
      "Epoch = 46 MSError= 1479.1500235131311\n",
      "Epoch = 47 MSError= 1476.5205270156364\n",
      "Epoch = 48 MSError= 1474.0635453156513\n",
      "Epoch = 49 MSError= 1472.2223281998133\n",
      "Epoch = 50 MSError= 1470.2159692425298\n",
      "\n",
      "Plot of average mean squared error for each input\n",
      "in the train set and test set:\n"
     ]
    },
    {
     "data": {
      "image/png": "[encoded data removed]",
      "text/plain": [
       "<Figure size 432x288 with 1 Axes>"
      ]
     },
     "metadata": {
      "needs_background": "light"
     },
     "output_type": "display_data"
    }
   ],
   "source": [
    "mlp_14.train(X_letters_train, y_letters_train, n_epochs=20, batch_size=50, learning_rate=0.1, X_test=X_letters_test, y_test=y_letters_test)\n",
    "#"
   ]
  },
  {
   "cell_type": "markdown",
   "metadata": {},
   "source": [
    "### Predictions on random items of the test set\n",
    "Just execute the following cell"
   ]
  },
  {
   "cell_type": "code",
   "execution_count": 698,
   "metadata": {},
   "outputs": [
    {
     "name": "stdout",
     "output_type": "stream",
     "text": [
      "[[2.19623555e-08 2.27990163e-07 8.18570334e-06 7.07443265e-08\n",
      "  3.52897910e-02 3.62159684e-06 2.93791671e-04 1.48494771e-07\n",
      "  1.33171737e-08 1.21082458e-06 5.40548695e-07 8.12251870e-04\n",
      "  1.75519628e-10 3.74215116e-12 9.60677799e-14 5.40159107e-10\n",
      "  1.54642746e-08 8.30617661e-05 1.02514524e-03 1.65905924e-07\n",
      "  2.70617466e-07 1.48250296e-10 8.18417948e-18 7.21560691e-04\n",
      "  9.55811771e-13 9.20738040e-01]]\n",
      "y = Z\n",
      "t = Z\n"
     ]
    }
   ],
   "source": [
    "index = np.random.randint(3999)\n",
    "prediction_raw = mlp_14.predict(X_letters_test[index]).reshape(1, -1)\n",
    "prediction = encoder.inverse_transform(prediction_raw)\n",
    "ground_truth = encoder.inverse_transform(y_letters_test[index].reshape(1, -1))\n",
    "print(prediction_raw)\n",
    "print(\"y = \"+str(prediction[0][0]))\n",
    "print(\"t = \"+str(ground_truth[0][0]))"
   ]
  },
  {
   "cell_type": "markdown",
   "metadata": {},
   "source": [
    "### Test-Set Accuracy"
   ]
  },
  {
   "cell_type": "code",
   "execution_count": 749,
   "metadata": {},
   "outputs": [
    {
     "name": "stdout",
     "output_type": "stream",
     "text": [
      "Test-Set Accuracy = 0.8412103025756439\n"
     ]
    }
   ],
   "source": [
    "n_er = 0\n",
    "for item in zip(X_letters_test, y_letters_test):\n",
    "    prediction_raw = mlp_14.predict(item[0]).reshape(1, -1)\n",
    "    prediction = encoder.inverse_transform(prediction_raw)\n",
    "    ground_truth = encoder.inverse_transform(item[1].reshape(1, -1))\n",
    "    if prediction != ground_truth:\n",
    "        n_er += 1\n",
    "print(\"Test-Set Accuracy = \"+str(1-(n_er/float(len(X_letters_test)))))"
   ]
  },
  {
   "cell_type": "code",
   "execution_count": null,
   "metadata": {},
   "outputs": [],
   "source": []
  }
 ],
 "metadata": {
  "kernelspec": {
   "display_name": "Python 3",
   "language": "python",
   "name": "python3"
  },
  "language_info": {
   "codemirror_mode": {
    "name": "ipython",
    "version": 3
   },
   "file_extension": ".py",
   "mimetype": "text/x-python",
   "name": "python",
   "nbconvert_exporter": "python",
   "pygments_lexer": "ipython3",
   "version": "3.7.3"
  }
 },
 "nbformat": 4,
 "nbformat_minor": 2
}
